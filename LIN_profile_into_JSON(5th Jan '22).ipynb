{
 "cells": [
  {
   "cell_type": "markdown",
   "id": "de8c655e",
   "metadata": {},
   "source": [
    "# Scraping LinkedIN Profile Data into a JSON file"
   ]
  },
  {
   "cell_type": "code",
   "execution_count": 1,
   "id": "50785252",
   "metadata": {
    "scrolled": true
   },
   "outputs": [],
   "source": [
    "from selenium import webdriver\n",
    "from bs4 import BeautifulSoup\n",
    "import time"
   ]
  },
  {
   "cell_type": "code",
   "execution_count": null,
   "id": "f47f82ea",
   "metadata": {},
   "outputs": [],
   "source": [
    "element = input(\"Paste the body element of the LinkedIN profile\")"
   ]
  },
  {
   "cell_type": "code",
   "execution_count": null,
   "id": "a452c9c1",
   "metadata": {},
   "outputs": [],
   "source": [
    "soup = BeautifulSoup(element, 'html.parser')"
   ]
  },
  {
   "cell_type": "code",
   "execution_count": null,
   "id": "acc82aef",
   "metadata": {
    "scrolled": true
   },
   "outputs": [],
   "source": [
    "# Extracting the HTML of the complete introduction box\n",
    "# that contains the name, company name, and the location\n",
    "intro = soup.find('div', {'class': 'mt2 relative'})"
   ]
  },
  {
   "cell_type": "code",
   "execution_count": null,
   "id": "731108a9",
   "metadata": {
    "scrolled": true
   },
   "outputs": [],
   "source": [
    "name_loc = intro.find(\"h1\")\n",
    "\n",
    "# Extracting the Name\n",
    "name = name_loc.get_text().strip()\n",
    "# strip() is used to remove any extra blank spaces\n",
    "\n",
    "works_at_loc = intro.find(\"div\", {'class': 'text-body-medium'})\n",
    "# this gives us the HTML of the tag in which the Company Name is present\n",
    "# Extracting the Company Name\n",
    "works_at = works_at_loc.get_text().strip()\n",
    "\n",
    "location_loc = intro.find_all(\"span\", {'class': \"text-body-small inline t-black--light break-words\"})\n",
    "# Extracting the Location\n",
    "# The 2nd element in the location_loc variable has the location\n",
    "location = location_loc[0].get_text().strip()\n",
    "\n",
    "#print(\"Name -->\", name, \"\\nWorks At -->\", works_at, \"\\nLocation -->\", location)"
   ]
  },
  {
   "cell_type": "code",
   "execution_count": null,
   "id": "6935e6fd",
   "metadata": {},
   "outputs": [],
   "source": [
    "#Getting the experience details\n",
    "\n",
    "# Getting the HTML of the Experience section in the profile\n",
    "experience = soup.find('section', {'id': 'experience-section'}).find('ul')\n",
    "\n",
    "jobs = experience.find_all('li', {'class': 'pv-entity__position-group-pager pv-profile-section__list-item ember-view'})\n",
    "\n",
    "job_details={}\n",
    "role_details={}\n",
    "\n",
    "count = 0\n",
    "for job in jobs :\n",
    "    if(job.find('ul') is None): #If the person had more than one roles in one company-:\n",
    "        title = job.find('h3', {'class': 't-16 t-black t-bold'}).get_text()\n",
    "        company = job.find('p', {'class': 'pv-entity__secondary-title t-14 t-black t-normal'}).get_text()\n",
    "        time = job.find(\"h4\", {'class':'pv-entity__date-range t-14 t-black--light t-normal'}).find('span', {'class': None}).get_text()\n",
    "        duration = job.find(\"h4\", {'class':'t-14 t-black--light t-normal'}).find('span', {'class': 'pv-entity__bullet-item-v2'}).get_text()\n",
    "        location = job.find(\"h4\", {'class':'pv-entity__location t-14 t-black--light t-normal block'}).find('span', {'class': None}).get_text()\n",
    "        desc_temp = job.find(\"div\", {'class':'inline-show-more-text inline-show-more-text--is-collapsed pv-entity__description t-14 t-black t-normal'})\n",
    "        description = 'NA' if type(desc_temp) is None else desc_temp.get_text()\n",
    "        job_dict = {\n",
    "                'company': company,\n",
    "                'title': title, \n",
    "                'time': time,\n",
    "                'duration': duration,\n",
    "                'location': location,\n",
    "                'description': description\n",
    "               }\n",
    "    else:\n",
    "        company = job.find('h3', {'class': 't-16 t-black t-bold'}).find('span', {'class': None}).get_text()\n",
    "        all_roles = job.find_all('li')\n",
    "        rcount = 0\n",
    "        \n",
    "        for role in all_roles:\n",
    "            title = role.find(\"h3\", {'class':'t-14 t-black t-bold'}).find('span', {'class': None}).get_text()\n",
    "            time = role.find(\"h4\", {'class':'pv-entity__date-range t-14 t-black--light t-normal'}).find('span', {'class': None}).get_text()\n",
    "            duration = role.find(\"h4\", {'class':'t-14 t-black--light t-normal'}).find('span', {'class': 'pv-entity__bullet-item-v2'}).get_text()\n",
    "            location = role.find(\"h4\", {'class':'pv-entity__location t-14 t-black--light t-normal block'}).find('span', {'class': None}).get_text()\n",
    "            desc_temp = role.find(\"div\", {'class':'inline-show-more-text inline-show-more-text--is-collapsed pv-entity__description t-14 t-black t-normal'})\n",
    "            description = 'NA' if type(desc_temp) is None else desc_temp.get_text()\n",
    "            role_dict = {\n",
    "                            'title':title,\n",
    "                            'time':time,\n",
    "                            'duration':duration,\n",
    "                            'location': location,\n",
    "                            'description':description\n",
    "                          }\n",
    "            rcount = rcount+1\n",
    "            role_details.update({'role'+str(rcount): role_dict})\n",
    "        job_dict = {'company': company, 'roles': role_details}\n",
    "    \n",
    "    count = count + 1\n",
    "    \n",
    "    job_details.update({'job'+str(count): job_dict})\n",
    "    \n",
    "    if(count == 5) :\n",
    "        break\n",
    "        "
   ]
  },
  {
   "cell_type": "code",
   "execution_count": null,
   "id": "c17c9e3b",
   "metadata": {},
   "outputs": [],
   "source": [
    "#Creating a JSON file and transferring all the details in it\n",
    "import json\n",
    "\n",
    "my_profile = {\n",
    "    \"name\" : name,\n",
    "    \"works_at\" : works_at,\n",
    "    \"location\" : location,\n",
    "    \"experience\" : job_details\n",
    "}\n",
    "print(my_profile)\n",
    "with open(\"linkedin_profile\", \"w\") as outfile:\n",
    "    json.dump(my_profile, outfile)"
   ]
  }
 ],
 "metadata": {
  "kernelspec": {
   "display_name": "Python 3",
   "language": "python",
   "name": "python3"
  },
  "language_info": {
   "codemirror_mode": {
    "name": "ipython",
    "version": 3
   },
   "file_extension": ".py",
   "mimetype": "text/x-python",
   "name": "python",
   "nbconvert_exporter": "python",
   "pygments_lexer": "ipython3",
   "version": "3.8.8"
  }
 },
 "nbformat": 4,
 "nbformat_minor": 5
}
