{
 "cells": [
  {
   "cell_type": "markdown",
   "id": "de8c655e",
   "metadata": {},
   "source": [
    "# Scraping LinkedIN Profile Data into a JSON file"
   ]
  },
  {
   "cell_type": "code",
   "execution_count": null,
   "id": "50785252",
   "metadata": {
    "scrolled": true
   },
   "outputs": [],
   "source": [
    "from selenium import webdriver\n",
    "from bs4 import BeautifulSoup\n",
    "import time"
   ]
  },
  {
   "cell_type": "code",
   "execution_count": null,
   "id": "98d39260",
   "metadata": {},
   "outputs": [],
   "source": [
    "# Creating an instance\n",
    "driver = webdriver.Chrome(\"C:\\WebDrivers\\chromedriver.exe\")\n",
    "\n",
    "# Logging into LinkedIn\n",
    "driver.get(\"https://linkedin.com/uas/login\")\n",
    "time.sleep(5)\n",
    "\n",
    "username = driver.find_element_by_id(\"username\")\n",
    "username.send_keys(\"manuvats1990@gmail.com\") # Enter Your Email Address\n",
    "\n",
    "pword = driver.find_element_by_id(\"password\")\n",
    "pword.send_keys(\"!Smakm250790!\") # Enter Your Password\n",
    "\n",
    "driver.find_element_by_xpath(\"//button[@type='submit']\").click()\n",
    "\n",
    "# Opening My Profile\n",
    "# paste the URL of my profile here\n",
    "profile_url = \"https://www.linkedin.com/in/manu-vats/\"\n",
    "\n",
    "driver.get(profile_url)\t # this will open the link\n",
    "\n",
    "start = time.time()\n",
    "\n",
    "# will be used in the while loop\n",
    "initialScroll = 0\n",
    "finalScroll = 1000\n",
    "\n",
    "while True:\n",
    "    driver.execute_script(f\"window.scrollTo({initialScroll}, {finalScroll})\")\n",
    "    # this command scrolls the window starting from    \n",
    "    # the pixel value stored in the initialScroll\n",
    "    # variable to the pixel value stored at the\n",
    "    # finalScroll variable\n",
    "    initialScroll = finalScroll\n",
    "    finalScroll += 1000\n",
    "\n",
    "    # we will stop the script for 3 seconds so that\n",
    "    # the data can load\n",
    "    time.sleep(3)\n",
    "    \n",
    "    end = time.time()\n",
    "\n",
    "    # We will scroll for 20 seconds.\n",
    "    if round(end - start) > 20:\n",
    "        break\n",
    "\n"
   ]
  },
  {
   "cell_type": "code",
   "execution_count": null,
   "id": "a452c9c1",
   "metadata": {},
   "outputs": [],
   "source": [
    "job_src = driver.page_source\n",
    "  \n",
    "soup = BeautifulSoup(job_src, 'lxml')"
   ]
  },
  {
   "cell_type": "code",
   "execution_count": null,
   "id": "acc82aef",
   "metadata": {
    "scrolled": true
   },
   "outputs": [],
   "source": [
    "# Extracting the HTML of the complete introduction box\n",
    "# that contains the name, company name, and the location\n",
    "intro = soup.find('div', {'class': 'mt2 relative'})\n",
    "#print(intro)"
   ]
  },
  {
   "cell_type": "code",
   "execution_count": null,
   "id": "731108a9",
   "metadata": {
    "scrolled": true
   },
   "outputs": [],
   "source": [
    "name_loc = intro.find(\"h1\")\n",
    "#print(name_loc)\n",
    "\n",
    "# Extracting the Name\n",
    "name = name_loc.get_text().strip()\n",
    "# strip() is used to remove any extra blank spaces\n",
    "\n",
    "works_at_loc = intro.find(\"div\", {'class': 'text-body-medium'})\n",
    "#print(works_at_loc)\n",
    "# this gives us the HTML of the tag in which the Company Name is present\n",
    "# Extracting the Company Name\n",
    "works_at = works_at_loc.get_text().strip()\n",
    "\n",
    "\n",
    "location_loc = intro.find_all(\"span\", {'class': \"text-body-small inline t-black--light break-words\"})\n",
    "#print(location_loc)\n",
    "# Extracting the Location\n",
    "# The 2nd element in the location_loc variable has the location\n",
    "location = location_loc[0].get_text().strip()\n",
    "\n",
    "#print(\"Name -->\", name, \"\\nWorks At -->\", works_at, \"\\nLocation -->\", location)"
   ]
  },
  {
   "cell_type": "code",
   "execution_count": null,
   "id": "6935e6fd",
   "metadata": {},
   "outputs": [],
   "source": [
    "# Getting the HTML of the Experience section in the profile\n",
    "experience = soup.find(\"section\", {\"id\": \"experience-section\"}).find('ul')\n",
    "  \n",
    "#print(experience)"
   ]
  },
  {
   "cell_type": "markdown",
   "id": "53ff707f",
   "metadata": {},
   "source": [
    "### Job Details"
   ]
  },
  {
   "cell_type": "code",
   "execution_count": null,
   "id": "17495867",
   "metadata": {},
   "outputs": [],
   "source": [
    "def job_details(section_id):\n",
    "    \n",
    "    job = experience.find_all(\"section\", {'id': section_id})\n",
    "    #print(job1)\n",
    "    \n",
    "    job_title=job[0].find_all(\"h3\", {'class': 't-16 t-black t-bold'})[0].get_text().strip()\n",
    "    #print(job1_title)\n",
    "\n",
    "    job_company=job[0].find_all(\"p\", {'class': 'pv-entity__secondary-title t-14 t-black t-normal'})[0].get_text().strip()\n",
    "    #print(job1_company)\n",
    "\n",
    "    job_time=job[0].find_all(\"h4\")[0].find_all(\"span\")[1].get_text().strip()\n",
    "    #print(job1_time)\n",
    "\n",
    "    job_duration = job[0].find_all(\"h4\")[1].find_all(\"span\")[1].get_text().strip()\n",
    "    #print(job1_duration)\n",
    "\n",
    "    job_loc = job[0].find_all(\"h4\")[2].find_all(\"span\")[1].get_text().strip()\n",
    "    #print(job1_loc)\n",
    "\n",
    "    job_desc = job[0].find_all(\"div\", {'class': 'inline-show-more-text inline-show-more-text--is-collapsed pv-entity__description t-14 t-black t-normal'})[0].get_text().strip()\n",
    "    #print(job1_desc)\n",
    "\n",
    "    job_details = {\n",
    "        \"title\" : job_title,\n",
    "        \"company\" : job_company,\n",
    "        \"time\" : job_time,\n",
    "        \"duration\" : job_duration,\n",
    "        \"location\": job_loc,\n",
    "        \"description\": job_desc\n",
    "    }\n",
    "    return job_details"
   ]
  },
  {
   "cell_type": "code",
   "execution_count": null,
   "id": "33c89530",
   "metadata": {},
   "outputs": [],
   "source": [
    "job1_details = job_details(\"527316162\")\n",
    "#print(job1_details)\n",
    "\n",
    "job2_details = job_details(\"1406290998\")\n",
    "#print(job2_details)\n",
    "\n",
    "job3_details = job_details(\"1807379929\")\n",
    "#print(job3_details)"
   ]
  },
  {
   "cell_type": "code",
   "execution_count": null,
   "id": "c17c9e3b",
   "metadata": {},
   "outputs": [],
   "source": [
    "#Creating a JSON file and transferring all the details in it\n",
    "import json\n",
    "\n",
    "my_profile = {\n",
    "    \"name\" : name,\n",
    "    \"works_at\" : works_at,\n",
    "    \"location\" : location,\n",
    "    \"experience\" : {\"job1\":job1_details, \"job2\":job2_details, \"job3\":job3_details}\n",
    "}\n",
    "print(my_profile)\n",
    "with open(\"linkedin_profile\", \"w\") as outfile:\n",
    "    json.dump(my_profile, outfile)"
   ]
  }
 ],
 "metadata": {
  "kernelspec": {
   "display_name": "Python 3",
   "language": "python",
   "name": "python3"
  },
  "language_info": {
   "codemirror_mode": {
    "name": "ipython",
    "version": 3
   },
   "file_extension": ".py",
   "mimetype": "text/x-python",
   "name": "python",
   "nbconvert_exporter": "python",
   "pygments_lexer": "ipython3",
   "version": "3.8.8"
  }
 },
 "nbformat": 4,
 "nbformat_minor": 5
}
