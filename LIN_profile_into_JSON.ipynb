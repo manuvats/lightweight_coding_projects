{
 "cells": [
  {
   "cell_type": "markdown",
   "id": "de8c655e",
   "metadata": {},
   "source": [
    "# Scraping LinkedIN Profile Data into a JSON file"
   ]
  },
  {
   "cell_type": "code",
   "execution_count": 1,
   "id": "50785252",
   "metadata": {
    "scrolled": true
   },
   "outputs": [],
   "source": [
    "from selenium import webdriver\n",
    "from bs4 import BeautifulSoup\n",
    "import time"
   ]
  },
  {
   "cell_type": "code",
   "execution_count": 2,
   "id": "98d39260",
   "metadata": {},
   "outputs": [
    {
     "name": "stderr",
     "output_type": "stream",
     "text": [
      "<ipython-input-2-c13cb7e7d80d>:2: DeprecationWarning: executable_path has been deprecated, please pass in a Service object\n",
      "  driver = webdriver.Chrome(\"C:\\WebDrivers\\chromedriver.exe\")\n",
      "<ipython-input-2-c13cb7e7d80d>:8: DeprecationWarning: find_element_by_* commands are deprecated. Please use find_element() instead\n",
      "  username = driver.find_element_by_id(\"username\")\n",
      "<ipython-input-2-c13cb7e7d80d>:11: DeprecationWarning: find_element_by_* commands are deprecated. Please use find_element() instead\n",
      "  pword = driver.find_element_by_id(\"password\")\n",
      "<ipython-input-2-c13cb7e7d80d>:14: DeprecationWarning: find_element_by_* commands are deprecated. Please use find_element() instead\n",
      "  driver.find_element_by_xpath(\"//button[@type='submit']\").click()\n"
     ]
    }
   ],
   "source": [
    "# Creating an instance\n",
    "driver = webdriver.Chrome(\"C:\\WebDrivers\\chromedriver.exe\")\n",
    "\n",
    "# Logging into LinkedIn\n",
    "driver.get(\"https://linkedin.com/uas/login\")\n",
    "time.sleep(5)\n",
    "\n",
    "username = driver.find_element_by_id(\"username\")\n",
    "username.send_keys(\"manuvats1990@gmail.com\") # Enter Your Email Address\n",
    "\n",
    "pword = driver.find_element_by_id(\"password\")\n",
    "pword.send_keys(\"!Smakm250790!\") # Enter Your Password\n",
    "\n",
    "driver.find_element_by_xpath(\"//button[@type='submit']\").click()\n",
    "\n",
    "# Opening My Profile\n",
    "# paste the URL of my profile here\n",
    "profile_url = \"https://www.linkedin.com/in/manu-vats/\"\n",
    "\n",
    "driver.get(profile_url)\t # this will open the link\n",
    "\n",
    "start = time.time()\n",
    "\n",
    "# will be used in the while loop\n",
    "initialScroll = 0\n",
    "finalScroll = 1000\n",
    "\n",
    "while True:\n",
    "    driver.execute_script(f\"window.scrollTo({initialScroll}, {finalScroll})\")\n",
    "    # this command scrolls the window starting from    \n",
    "    # the pixel value stored in the initialScroll\n",
    "    # variable to the pixel value stored at the\n",
    "    # finalScroll variable\n",
    "    initialScroll = finalScroll\n",
    "    finalScroll += 1000\n",
    "\n",
    "    # we will stop the script for 3 seconds so that\n",
    "    # the data can load\n",
    "    time.sleep(3)\n",
    "    \n",
    "    end = time.time()\n",
    "\n",
    "    # We will scroll for 20 seconds.\n",
    "    if round(end - start) > 20:\n",
    "        break\n",
    "\n"
   ]
  },
  {
   "cell_type": "code",
   "execution_count": 3,
   "id": "a452c9c1",
   "metadata": {},
   "outputs": [],
   "source": [
    "job_src = driver.page_source\n",
    "  \n",
    "soup = BeautifulSoup(job_src, 'lxml')"
   ]
  },
  {
   "cell_type": "code",
   "execution_count": 4,
   "id": "acc82aef",
   "metadata": {
    "scrolled": true
   },
   "outputs": [],
   "source": [
    "# Extracting the HTML of the complete introduction box\n",
    "# that contains the name, company name, and the location\n",
    "intro = soup.find('div', {'class': 'mt2 relative'})\n",
    "#print(intro)"
   ]
  },
  {
   "cell_type": "code",
   "execution_count": 5,
   "id": "731108a9",
   "metadata": {
    "scrolled": true
   },
   "outputs": [],
   "source": [
    "name_loc = intro.find(\"h1\")\n",
    "#print(name_loc)\n",
    "\n",
    "# Extracting the Name\n",
    "name = name_loc.get_text().strip()\n",
    "# strip() is used to remove any extra blank spaces\n",
    "\n",
    "works_at_loc = intro.find(\"div\", {'class': 'text-body-medium'})\n",
    "#print(works_at_loc)\n",
    "# this gives us the HTML of the tag in which the Company Name is present\n",
    "# Extracting the Company Name\n",
    "works_at = works_at_loc.get_text().strip()\n",
    "\n",
    "\n",
    "location_loc = intro.find_all(\"span\", {'class': \"text-body-small inline t-black--light break-words\"})\n",
    "#print(location_loc)\n",
    "# Extracting the Location\n",
    "# The 2nd element in the location_loc variable has the location\n",
    "location = location_loc[0].get_text().strip()\n",
    "\n",
    "#print(\"Name -->\", name, \"\\nWorks At -->\", works_at, \"\\nLocation -->\", location)"
   ]
  },
  {
   "cell_type": "code",
   "execution_count": 6,
   "id": "6935e6fd",
   "metadata": {},
   "outputs": [],
   "source": [
    "# Getting the HTML of the Experience section in the profile\n",
    "experience = soup.find(\"section\", {\"id\": \"experience-section\"}).find('ul')\n",
    "  \n",
    "#print(experience)"
   ]
  },
  {
   "cell_type": "code",
   "execution_count": 7,
   "id": "0994f8c4",
   "metadata": {},
   "outputs": [],
   "source": [
    "li_tags = experience.find('div')\n",
    "a_tags = li_tags.find(\"a\")\n",
    "job_title = a_tags.find(\"h3\").get_text().strip()\n",
    "\n",
    "#print(job_title)\n",
    "\n",
    "company_name = a_tags.find_all(\"p\")[1].get_text().strip()\n",
    "#print(company_name)\n",
    "\n",
    "joining_date = a_tags.find_all(\"h4\")[0].find_all(\"span\")[1].get_text().strip()\n",
    "\n",
    "employment_duration = a_tags.find_all(\"h4\")[1].find_all(\"span\")[1].get_text().strip()\n",
    "\n",
    "#print(joining_date + \", \" + employment_duration)\n"
   ]
  },
  {
   "cell_type": "code",
   "execution_count": 8,
   "id": "c17c9e3b",
   "metadata": {},
   "outputs": [],
   "source": [
    "import json\n",
    "\n",
    "my_profile = {\n",
    "    \"name\" : name,\n",
    "    \"works_at\" : works_at,\n",
    "    \"location\" : location,\n",
    "    \"experience\" : experience.text,\n",
    "    \"job_title\": job_title,\n",
    "    \"company_name\": company_name,\n",
    "    \"joining_date\": joining_date,\n",
    "    \"employment_duration\": employment_duration\n",
    "}\n",
    "  \n",
    "with open(\"linkedin_profile\", \"w\") as outfile:\n",
    "    json.dump(my_profile, outfile)"
   ]
  }
 ],
 "metadata": {
  "kernelspec": {
   "display_name": "Python 3",
   "language": "python",
   "name": "python3"
  },
  "language_info": {
   "codemirror_mode": {
    "name": "ipython",
    "version": 3
   },
   "file_extension": ".py",
   "mimetype": "text/x-python",
   "name": "python",
   "nbconvert_exporter": "python",
   "pygments_lexer": "ipython3",
   "version": "3.8.8"
  }
 },
 "nbformat": 4,
 "nbformat_minor": 5
}
