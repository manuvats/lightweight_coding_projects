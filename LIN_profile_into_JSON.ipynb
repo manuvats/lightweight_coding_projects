{
 "cells": [
  {
   "cell_type": "markdown",
   "id": "de8c655e",
   "metadata": {},
   "source": [
    "# Scraping LinkedIN Profile Data into a JSON file"
   ]
  },
  {
   "cell_type": "code",
   "execution_count": null,
   "id": "50785252",
   "metadata": {
    "scrolled": true
   },
   "outputs": [],
   "source": [
    "from selenium import webdriver\n",
    "from bs4 import BeautifulSoup\n",
    "import time"
   ]
  },
  {
   "cell_type": "code",
   "execution_count": null,
   "id": "3a26e6c9",
   "metadata": {},
   "outputs": [],
   "source": [
    "from selenium.webdriver.support.ui import WebDriverWait\n",
    "from selenium.webdriver.common.by import By\n",
    "from selenium.webdriver.support import expected_conditions as EC"
   ]
  },
  {
   "cell_type": "code",
   "execution_count": null,
   "id": "98d39260",
   "metadata": {},
   "outputs": [],
   "source": [
    "# Creating an instance\n",
    "driver = webdriver.Chrome(\"C:\\WebDrivers\\chromedriver.exe\")\n",
    "\n",
    "# Logging into LinkedIn\n",
    "driver.get(\"https://linkedin.com/uas/login\")\n",
    "time.sleep(5)\n",
    "\n",
    "username = driver.find_element_by_id(\"username\")\n",
    "username.send_keys(\"manuvats1990@gmail.com\") # Enter Your Email Address\n",
    "\n",
    "pword = driver.find_element_by_id(\"password\")\n",
    "pword.send_keys(\"!Smakm250790!\") # Enter Your Password\n",
    "\n",
    "driver.find_element_by_xpath(\"//button[@type='submit']\").click()\n",
    "\n",
    "# Opening My Profile\n",
    "# paste the URL of my profile here\n",
    "profile_url = \"https://www.linkedin.com/in/manu-vats/\"\n",
    "\n",
    "driver.get(profile_url)\t # this will open the link\n",
    "\n",
    "start = time.time()\n",
    "\n",
    "# will be used in the while loop\n",
    "initialScroll = 0\n",
    "finalScroll = 1000\n",
    "\n",
    "while True: \n",
    "    driver.execute_script(f\"window.scrollTo({initialScroll}, {finalScroll})\")\n",
    "    # this command scrolls the window starting from    \n",
    "    # the pixel value stored in the initialScroll\n",
    "    # variable to the pixel value stored at the\n",
    "    # finalScroll variable\n",
    "    initialScroll = finalScroll\n",
    "    finalScroll += 500\n",
    "    #if see_more:\n",
    "        #see_more.click()\n",
    "    # we will stop the script for 3 seconds so that\n",
    "    # the data can loadriver.execute_script(\"arguments[0].click();\", element)d\n",
    "    time.sleep(3)\n",
    "    \n",
    "    end = time.time()\n",
    "    #if see_more:\n",
    "        #print(type(see_more))\n",
    "        #driver.execute_script(\"arguments[0].click();\", see_more)\n",
    "    #else:\n",
    "        #print(\"no\")\n",
    "    #print(see_more)\n",
    "    # We will scroll for 20 seconds.\n",
    "    if round(end - start) > 20:\n",
    "        break\n",
    "\n",
    "# other lines of code\n",
    "showmore = driver.find_element_by_xpath(\"/html/body/div[6]/div[3]/div/div/div/div/div[3]/div/div/main/div/div[6]/div[2]/span/div/section/div[1]/section/ul/li[3]/section/div[2]/div[2]\")\n",
    "driver.execute_script(\"arguments[0].scrollIntoView(true);\",showmore);\n",
    "showmore.click()"
   ]
  },
  {
   "cell_type": "code",
   "execution_count": null,
   "id": "a452c9c1",
   "metadata": {},
   "outputs": [],
   "source": [
    "job_src = driver.page_source\n",
    "  \n",
    "soup = BeautifulSoup(job_src, 'lxml')\n",
    "#dom = etree.HTML(str(soup))"
   ]
  },
  {
   "cell_type": "code",
   "execution_count": null,
   "id": "acc82aef",
   "metadata": {
    "scrolled": true
   },
   "outputs": [],
   "source": [
    "# Extracting the HTML of the complete introduction box\n",
    "# that contains the name, company name, and the location\n",
    "intro = soup.find('div', {'class': 'mt2 relative'})\n",
    "#print(intro)"
   ]
  },
  {
   "cell_type": "code",
   "execution_count": null,
   "id": "731108a9",
   "metadata": {
    "scrolled": true
   },
   "outputs": [],
   "source": [
    "name_loc = intro.find(\"h1\")\n",
    "#print(name_loc)\n",
    "\n",
    "# Extracting the Name\n",
    "name = name_loc.get_text().strip()\n",
    "# strip() is used to remove any extra blank spaces\n",
    "\n",
    "works_at_loc = intro.find(\"div\", {'class': 'text-body-medium'})\n",
    "#print(works_at_loc)\n",
    "# this gives us the HTML of the tag in which the Company Name is present\n",
    "# Extracting the Company Name\n",
    "works_at = works_at_loc.get_text().strip()\n",
    "\n",
    "location_loc = intro.find_all(\"span\", {'class': \"text-body-small inline t-black--light break-words\"})\n",
    "#print(location_loc)\n",
    "# Extracting the Location\n",
    "# The 2nd element in the location_loc variable has the location\n",
    "location = location_loc[0].get_text().strip()\n",
    "\n",
    "print(\"Name -->\", name, \"\\nWorks At -->\", works_at, \"\\nLocation -->\", location)"
   ]
  },
  {
   "cell_type": "code",
   "execution_count": null,
   "id": "6935e6fd",
   "metadata": {},
   "outputs": [],
   "source": [
    "# Getting the HTML of the Experience section in the profile\n",
    "experience = soup.find(\"section\", {\"id\": \"experience-section\"}).find('ul')\n",
    "#print(experience)\n",
    "jobs = experience.find_all('li', {'class': 'pv-entity__position-group-pager pv-profile-section__list-item ember-view'})\n",
    "#print(len(jobs))\n",
    "job_details={}\n",
    "role_details={}\n",
    "\n",
    "count = 0\n",
    "for job in jobs :\n",
    "    #print(job)\n",
    "    if(job.find('ul') is None):\n",
    "        title = job.find('h3', {'class': 't-16 t-black t-bold'}).get_text()\n",
    "        company = job.find('p', {'class': 'pv-entity__secondary-title t-14 t-black t-normal'}).get_text()\n",
    "        time = job.find(\"h4\", {'class':'pv-entity__date-range t-14 t-black--light t-normal'}).find('span', {'class': None}).get_text()\n",
    "        duration = job.find(\"h4\", {'class':'t-14 t-black--light t-normal'}).find('span', {'class': 'pv-entity__bullet-item-v2'}).get_text()\n",
    "        location = job.find(\"h4\", {'class':'pv-entity__location t-14 t-black--light t-normal block'}).find('span', {'class': None}).get_text()\n",
    "        desc_temp = job.find(\"div\", {'class':'inline-show-more-text inline-show-more-text--is-collapsed pv-entity__description t-14 t-black t-normal'})\n",
    "        description = 'NA' if type(desc_temp) is None else desc_temp.get_text()\n",
    "        job_dict = {\n",
    "                'company': company,\n",
    "                'title': title, \n",
    "                'time': time,\n",
    "                'duration': duration,\n",
    "                'location': location,\n",
    "                'description': description\n",
    "               }\n",
    "    else:\n",
    "        #print(job.find_all('li'))\n",
    "        #print(job)\n",
    "        company = job.find('h3', {'class': 't-16 t-black t-bold'}).find('span', {'class': None}).get_text()\n",
    "        #ul = job.find('ul')\n",
    "        all_roles = job.find_all('li')\n",
    "        rcount = 0\n",
    "        print(len(all_roles))\n",
    "        for role in all_roles:\n",
    "            #print(role)\n",
    "            title = role.find(\"h3\", {'class':'t-14 t-black t-bold'}).find('span', {'class': None}).get_text()\n",
    "            time = role.find(\"h4\", {'class':'pv-entity__date-range t-14 t-black--light t-normal'}).find('span', {'class': None}).get_text()\n",
    "            duration = role.find(\"h4\", {'class':'t-14 t-black--light t-normal'}).find('span', {'class': 'pv-entity__bullet-item-v2'}).get_text()\n",
    "            location = role.find(\"h4\", {'class':'pv-entity__location t-14 t-black--light t-normal block'}).find('span', {'class': None}).get_text()\n",
    "            desc_temp = role.find(\"div\", {'class':'inline-show-more-text inline-show-more-text--is-collapsed pv-entity__description t-14 t-black t-normal'})\n",
    "            description = 'NA' if type(desc_temp) is None else desc_temp.get_text()\n",
    "            role_dict = {\n",
    "                            'title':title,\n",
    "                            'time':time,\n",
    "                            'duration':duration,\n",
    "                            'location': location,\n",
    "                            'description':description\n",
    "                          }\n",
    "            #print(role_dict)\n",
    "            rcount = rcount+1\n",
    "            role_details.update({'role'+str(rcount): role_dict})\n",
    "        job_dict = {'company': company, 'roles': role_details}\n",
    "    \n",
    "    count = count + 1\n",
    "    \n",
    "    job_details.update({'job'+str(count): job_dict})\n",
    "    #print('job'+str(count))\n",
    "    \n",
    "    if(count == 5) :\n",
    "        break\n",
    "#print(job_details)"
   ]
  },
  {
   "cell_type": "code",
   "execution_count": null,
   "id": "c17c9e3b",
   "metadata": {},
   "outputs": [],
   "source": [
    "#Creating a JSON file and transferring all the details in it\n",
    "import json\n",
    "\n",
    "my_profile = {\n",
    "    \"name\" : name,\n",
    "    \"works_at\" : works_at,\n",
    "    \"location\" : location,\n",
    "    \"experience\" : job_details\n",
    "}\n",
    "print(my_profile)\n",
    "with open(\"linkedin_profile\", \"w\") as outfile:\n",
    "    json.dump(my_profile, outfile)"
   ]
  }
 ],
 "metadata": {
  "kernelspec": {
   "display_name": "Python 3",
   "language": "python",
   "name": "python3"
  },
  "language_info": {
   "codemirror_mode": {
    "name": "ipython",
    "version": 3
   },
   "file_extension": ".py",
   "mimetype": "text/x-python",
   "name": "python",
   "nbconvert_exporter": "python",
   "pygments_lexer": "ipython3",
   "version": "3.8.8"
  }
 },
 "nbformat": 4,
 "nbformat_minor": 5
}
